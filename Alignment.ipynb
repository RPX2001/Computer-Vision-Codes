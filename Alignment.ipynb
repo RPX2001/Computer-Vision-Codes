{
 "cells": [
  {
   "cell_type": "code",
   "execution_count": 1,
   "metadata": {},
   "outputs": [
    {
     "data": {
      "image/png": "[encoded data removed]",
      "text/plain": [
       "<Figure size 640x480 with 1 Axes>"
      ]
     },
     "metadata": {},
     "output_type": "display_data"
    }
   ],
   "source": [
    "import matplotlib.pyplot as plt\n",
    "import numpy as np\n",
    "\n",
    "# Points a, b, c, d\n",
    "a, b, c, d = [0, 0, 1], [0, 1, 1], [1, 1, 1], [1, 0, 1]\n",
    "\n",
    "X = np.array([a, b, c, d]).T\n",
    "# Y = X + np.array([3, 4, 1]).reshape(3,1) # transfromed version of X\n",
    "\n",
    "# theta = np.pi/180*60\n",
    "t = np.array([2, 1]).T\n",
    "# H = np.array([[np.cos(theta), -np.sin(theta), t[0]], [np.sin(theta), np.cos(theta), t[1]], [0, 0, 1]])\n",
    "# Y = H @ X\n",
    "\n",
    "A  = np.array([[1, 0.5, t[0]], [2, 1.5, t[1]], [0, 0, 1]]) # Affine transformaiton\n",
    "Y = A @ X\n",
    "# Homographic transformation\n",
    "\n",
    "x = np.append(X[0, :], X[0, 0])\n",
    "y = np.append(X[1, :], X[1, 0])\n",
    "fig, ax = plt.subplots(1,1)\n",
    "ax.plot(x, y, color='g')\n",
    "\n",
    "x = np.append(Y[0, :], Y[0, 0])\n",
    "y = np.append(Y[1, :], Y[1, 0])\n",
    "ax.plot(x, y, color='r')\n",
    "ax.set_aspect('equal')\n",
    "plt.show()"
   ]
  }
 ],
 "metadata": {
  "kernelspec": {
   "display_name": "Python 3",
   "language": "python",
   "name": "python3"
  },
  "language_info": {
   "codemirror_mode": {
    "name": "ipython",
    "version": 3
   },
   "file_extension": ".py",
   "mimetype": "text/x-python",
   "name": "python",
   "nbconvert_exporter": "python",
   "pygments_lexer": "ipython3",
   "version": "3.12.1"
  }
 },
 "nbformat": 4,
 "nbformat_minor": 2
}
